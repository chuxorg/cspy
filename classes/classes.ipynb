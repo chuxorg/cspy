{
 "cells": [
  {
   "cell_type": "code",
   "execution_count": null,
   "metadata": {},
   "outputs": [],
   "source": [
    "class Car: \n",
    "    def __init__(self, color): \n",
    "        self.color = color \n",
    "    \n",
    "    def get_color(self): \n",
    "        return self.color\n",
    "    \n",
    "    def set_color(self, color): \n",
    "        self.color = color\n",
    "        \n",
    "\n",
    "car_A = Car(\"blue\")\n",
    "car_B = Car(\"red\")\n",
    "\n",
    "print(\"Color of Car A: \" + car_A.get_color())\n",
    "print(\"Color of Car B: \" + car_B.get_color())"
   ]
  }
 ],
 "metadata": {
  "language_info": {
   "name": "python"
  },
  "orig_nbformat": 4
 },
 "nbformat": 4,
 "nbformat_minor": 2
}
