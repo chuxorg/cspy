{
 "cells": [
  {
   "cell_type": "code",
   "execution_count": 1,
   "metadata": {},
   "outputs": [
    {
     "name": "stdout",
     "output_type": "stream",
     "text": [
      "Color of Car A: blue\n",
      "Color of Car B: red\n"
     ]
    }
   ],
   "source": [
    "class Car: \n",
    "    def __init__(self, color): \n",
    "        self.color = color \n",
    "    \n",
    "    def get_color(self): \n",
    "        return self.color\n",
    "    \n",
    "    def set_color(self, color): \n",
    "        self.color = color\n",
    "        \n",
    "\n",
    "# Create two instances of the Car class.\n",
    "# and set different colors for each.\n",
    "car_A = Car(\"blue\")\n",
    "car_B = Car(\"red\")\n",
    "\n",
    "print(\"Color of Car A: \" + car_A.get_color())\n",
    "print(\"Color of Car B: \" + car_B.get_color())"
   ]
  }
 ],
 "metadata": {
  "kernelspec": {
   "display_name": "Python 3",
   "language": "python",
   "name": "python3"
  },
  "language_info": {
   "codemirror_mode": {
    "name": "ipython",
    "version": 3
   },
   "file_extension": ".py",
   "mimetype": "text/x-python",
   "name": "python",
   "nbconvert_exporter": "python",
   "pygments_lexer": "ipython3",
   "version": "3.11.3"
  },
  "orig_nbformat": 4
 },
 "nbformat": 4,
 "nbformat_minor": 2
}
