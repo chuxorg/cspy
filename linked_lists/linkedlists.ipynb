{
 "cells": [
  {
   "attachments": {},
   "cell_type": "markdown",
   "id": "b19bd453",
   "metadata": {},
   "source": [
    "Let's look at a Linked List and how they work. Below, there is a nested group of dictionaries. Essentially, this is what a Linked List looks like.\n",
    "You start off at the head and traverse the Linked List by accessing the \"next\" attribute until you reach the value you want. In Big O notation this is O(n). Where\n",
    "\"n\" is the number of nested dictionaries. The last dictionary, which has a value of 4 and next == None is called the Tail.\n",
    "\n",
    "Of course, this example is just for illustrative purposes. An actual Linked List doesn't simply add another dictionary to the Tail. Rather, a Linked List uses Pointers to reference\n",
    "the memory address of the \"next\" node in the Linked List. Unlike the List data type found in Python, and other programming languages, a Linked List doesn't store its values in\n",
    "contigous addresses in memory. The memory addresses in a Link List are random. "
   ]
  },
  {
   "cell_type": "code",
   "execution_count": 7,
   "id": "da4f269c",
   "metadata": {},
   "outputs": [
    {
     "name": "stdout",
     "output_type": "stream",
     "text": [
      "4\n"
     ]
    }
   ],
   "source": [
    "head = dict({\n",
    "    \"value\": 1,\n",
    "    \"next\": dict({\n",
    "        \"value\": 23,\n",
    "        \"next\" : dict({\n",
    "            \"value\": 4,\n",
    "            \"next\": None\n",
    "        }),\n",
    "    }),\n",
    "})\n",
    "print(head[\"next\"][\"next\"][\"value\"])"
   ]
  },
  {
   "attachments": {},
   "cell_type": "markdown",
   "id": "6ae715b0",
   "metadata": {},
   "source": [
    "There are several benefits to the way linked lists store values in random, non-contiguous blocks of memory:\n",
    "\n",
    "1. Dynamic Size: Linked lists allow for dynamic resizing. As elements are added or removed from a linked list, memory can be allocated or deallocated as needed. This flexibility is particularly useful when the size of the data structure needs to change frequently.\n",
    "\n",
    "2. Efficient Insertions and Deletions: Insertions and deletions at arbitrary positions within a linked list can be performed with a time complexity of O(1) as long as the position is known. This is because adding or removing a node in a linked list only requires updating a few pointers, whereas in an array, it may involve shifting or copying a large number of elements.\n",
    "\n",
    "3. Memory Efficiency: Linked lists do not require a contiguous block of memory. Each node in a linked list contains a reference or pointer to the next node, allowing the list to be constructed using scattered memory locations. This can be beneficial when dealing with large datasets or when memory is fragmented.\n",
    "\n",
    "4. Easy to Insert and Delete at the Head: Linked lists make it easy and efficient to insert or delete elements at the beginning of the list. Since the head of the list is just a pointer, inserting or deleting a node at the head simply involves updating the pointer, which has a time complexity of O(1). In contrast, inserting or deleting elements at the beginning of an array requires shifting or copying all the elements, resulting in a time complexity of O(n).\n",
    "\n",
    "5. Versatility: Linked lists can be used to implement various data structures, such as stacks, queues, and hash tables. The ability to easily insert and delete elements makes linked lists a suitable choice for these dynamic data structures.\n",
    "\n",
    "As always, with everything in software development, the desicion to use Link Lists over an Array or List has the same answer: \"It depends...\" \n",
    "\n",
    "Despite the advantages listed above, linked lists also have some drawbacks. They generally require more memory per element due to the additional pointers, and accessing elements at arbitrary positions has a time complexity of O(n). This is because you need to traverse the list from the beginning or end. Arrays, on the other hand, provide constant-time access to elements using indices. Therefore, the choice between linked lists, lists and arrays depends on the specific requirements and constraints of the problem at hand.\n",
    "\n",
    "Before we can create a Linked List and add values we must have a Node Object. The node class will of a value which represents the value of the node, e.g. 1,2.2, \"Hello\", [1,3,3], {\"one\":1}, 20230704T13:00:00 etc. The other attribute needed in the node is \"next.\" next is a pointer to the next Node in the list. If we are at the head and next is None, then we know our linked list only contains one value. If the head node's next is NOT None then we have > 1 items in the list.\n",
    "\n"
   ]
  },
  {
   "cell_type": "code",
   "execution_count": 1,
   "id": "5d1b56f5",
   "metadata": {},
   "outputs": [],
   "source": [
    "# This is the Node class that is used in the LinkedList class\n",
    "class Node:\n",
    "    def __init__(self, value):\n",
    "        self.value = value\n",
    "        self.next = None"
   ]
  },
  {
   "attachments": {},
   "cell_type": "markdown",
   "id": "d7cde2e6",
   "metadata": {},
   "source": [
    "The first method of the Linked List we will implement is the constructor. The constructor will be used to set the Head and Tail pointers. These variables are used to track our position within the Linked List at anytime. \n",
    "\n",
    "The final variable is Length. This allows us to know how many nodes are in our Linked Lest. We start with a value of 1."
   ]
  }
 ],
 "metadata": {
  "kernelspec": {
   "display_name": "Python 3 (ipykernel)",
   "language": "python",
   "name": "python3"
  },
  "language_info": {
   "codemirror_mode": {
    "name": "ipython",
    "version": 3
   },
   "file_extension": ".py",
   "mimetype": "text/x-python",
   "name": "python",
   "nbconvert_exporter": "python",
   "pygments_lexer": "ipython3",
   "version": "3.11.3"
  }
 },
 "nbformat": 4,
 "nbformat_minor": 5
}
