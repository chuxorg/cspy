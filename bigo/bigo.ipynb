{
 "cells": [
  {
   "cell_type": "code",
   "execution_count": null,
   "id": "26c54760-05ae-47eb-b1a1-8aa8cd2699f5",
   "metadata": {},
   "outputs": [],
   "source": [
    "def list_items(n):\n",
    "    # Represents Big O(n) - Linear Time, the greater the n, the more time it takes.\n",
    "    for i in range(n):\n",
    "        print(i)\n",
    "list_items(10)"
   ]
  },
  {
   "cell_type": "code",
   "execution_count": null,
   "id": "9451e143-c2fe-4353-a27a-8c811a9379eb",
   "metadata": {},
   "outputs": [],
   "source": []
  }
 ],
 "metadata": {
  "kernelspec": {
   "display_name": "Python 3 (ipykernel)",
   "language": "python",
   "name": "python3"
  },
  "language_info": {
   "codemirror_mode": {
    "name": "ipython",
    "version": 3
   },
   "file_extension": ".py",
   "mimetype": "text/x-python",
   "name": "python",
   "nbconvert_exporter": "python",
   "pygments_lexer": "ipython3",
   "version": "3.11.3"
  }
 },
 "nbformat": 4,
 "nbformat_minor": 5
}
