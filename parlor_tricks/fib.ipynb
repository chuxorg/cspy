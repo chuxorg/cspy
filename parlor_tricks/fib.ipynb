{
 "cells": [
  {
   "attachments": {},
   "cell_type": "markdown",
   "id": "bf4df0b0",
   "metadata": {},
   "source": [
    "A Fibonacci sequence is a sequence of numbers where each number is the sum of the two preceding ones, starting from 0 and 1.\n",
    "the sum of the preceding two terms. \n",
    "e.g. 0, 1, 1, 2, 3, 5, 8, 13, 21, 34\n",
    "\n",
    "Ok, if you're a software developer working on CRUD applications then there really is no practical use for a Fibonacci Sequence. That's why I call\n",
    "it a parlor trick. However, Fibonacci sequences do server the purpose of teaching how to write algorithms that will use recursion. Recursion is a real\n",
    "possiblity, even in CRUD applications. When writing recursive functions, its important to understand the time and space complexity in the context of Big O\n",
    "Notation. Which is what were going to look at here.\n",
    "\n",
    "The first method to look at is a Fibonacci algorithm that uses brute force. This implementation is O(n^2). Very inefficient."
   ]
  },
  {
   "cell_type": "code",
   "execution_count": 7,
   "id": "aa48b438",
   "metadata": {},
   "outputs": [
    {
     "data": {
      "text/plain": [
       "317811"
      ]
     },
     "execution_count": 7,
     "metadata": {},
     "output_type": "execute_result"
    }
   ],
   "source": [
    "def fib(n):\n",
    "   if n < 0: return \"You must supply an unsigned integer to fib\"\n",
    "   if n == 0: return 0\n",
    "   if n <= 2: return 1\n",
    "   return fib(n-1) + fib(n-2) # This line impacts the space complexity.\n",
    "\n",
    "fib(3)\n",
    "fib(5)\n",
    "fib(28)\n",
    "# The next call, fib(50), is commented out below and will show the exponential time complexity of the algorithm as its currently implemented. \n",
    "# In otherwords, it will take a long time to run.\n",
    "# Each recurrsion call will take up space on the stack. So, the space complexity is O(n) where n is the number of recurrsion calls. \n",
    "# The time complexity is O(2^n) because each recurrsion call calls itself twice.\n",
    "# How can we improve the time and space complexity of this algorithm?\n",
    "# fib(50)"
   ]
  }
 ],
 "metadata": {
  "kernelspec": {
   "display_name": "Python 3 (ipykernel)",
   "language": "python",
   "name": "python3"
  },
  "language_info": {
   "codemirror_mode": {
    "name": "ipython",
    "version": 3
   },
   "file_extension": ".py",
   "mimetype": "text/x-python",
   "name": "python",
   "nbconvert_exporter": "python",
   "pygments_lexer": "ipython3",
   "version": "3.11.3"
  }
 },
 "nbformat": 4,
 "nbformat_minor": 5
}
